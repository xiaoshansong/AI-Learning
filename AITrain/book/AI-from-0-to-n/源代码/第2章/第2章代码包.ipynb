{
 "cells": [
  {
   "cell_type": "markdown",
   "metadata": {},
   "source": [
    "# 第二章 Python编程基础"
   ]
  },
  {
   "cell_type": "markdown",
   "metadata": {},
   "source": [
    "## 程序清单2-1 输入函数演示"
   ]
  },
  {
   "cell_type": "code",
   "execution_count": 1,
   "metadata": {},
   "outputs": [
    {
     "name": "stdout",
     "output_type": "stream",
     "text": [
      "请输入一个整数:3\n",
      "请输入一个整数:4\n",
      "34\n"
     ]
    }
   ],
   "source": [
    "a = input(\"请输入一个整数:\")\n",
    "b = input(\"请输入一个整数:\")\n",
    "print(a+b)"
   ]
  },
  {
   "cell_type": "markdown",
   "metadata": {},
   "source": [
    "## 程序清单2-2 输入函数输入整数实例"
   ]
  },
  {
   "cell_type": "code",
   "execution_count": 2,
   "metadata": {},
   "outputs": [
    {
     "name": "stdout",
     "output_type": "stream",
     "text": [
      "请输入一个整数:3\n",
      "请输入一个整数:4\n",
      "7\n",
      "请输入一个整数:5\n",
      "请输入一个整数:6\n",
      "11\n"
     ]
    }
   ],
   "source": [
    "a = int(input(\"请输入一个整数:\"))\n",
    "b = int(input(\"请输入一个整数:\"))\n",
    "print(a+b)\n",
    "c = eval(input(\"请输入一个整数:\"))\n",
    "d = eval(input(\"请输入一个整数:\"))\n",
    "print(c+d)"
   ]
  },
  {
   "cell_type": "markdown",
   "metadata": {},
   "source": [
    "## 程序清单2-3 常用格式化操作符使用"
   ]
  },
  {
   "cell_type": "code",
   "execution_count": 3,
   "metadata": {},
   "outputs": [
    {
     "name": "stdout",
     "output_type": "stream",
     "text": [
      "This dress is 25% cheaper!\n",
      "My favorite number is 4294967294!\n",
      "Her height is 1.650000!\n",
      "Coke is very popular!\n",
      "He got a B in this ecam!\n",
      "res = 0.333\n",
      "res =     0.3333\n",
      "res2 =    -1.0000\n",
      "res = 0.3333    \n",
      "res = 00000.3333\n"
     ]
    }
   ],
   "source": [
    "#%%：百分号标记，%d：有符号整数（十进制）\n",
    "print(\"This dress is %d%% cheaper!\" %(25))\n",
    "#%u：无符号整数（十进制）\n",
    "print(\"My favorite number is %u!\" %(4294967294))\n",
    "#%f：浮点数字\n",
    "print(\"Her height is %f!\" %(1.65))\n",
    "#%s：格式化字符串\n",
    "print(\"%s is very popular!\" %(\"Coke\"))\n",
    "#%c：格式化字符及其ASCII码\n",
    "print(\"He got a %c in this ecam!\" %('B'))\n",
    "#*：定义宽度或者小数点精度\n",
    "res = 1/3\n",
    "print(\"res = %.*f\" %(3,res))\n",
    "#m.n.：m是显示的最小宽度，n是小数点后的位数\n",
    "print(\"res = %10.4f\" %res)\n",
    "#+：在正数前面显示正负号\n",
    "res2=-1\n",
    "print(\"res2 = %+10.4f\" %res2)\n",
    "#-：用做左对齐\n",
    "print(\"res = %-10.4f\" %res)\n",
    "#0：显示的数字前面填充’0’，而不是默认的空格\n",
    "print(\"res = %010.4f\" %res)"
   ]
  },
  {
   "cell_type": "markdown",
   "metadata": {},
   "source": [
    "## 程序清单2-4 format()函数使用"
   ]
  },
  {
   "cell_type": "code",
   "execution_count": 4,
   "metadata": {},
   "outputs": [
    {
     "name": "stdout",
     "output_type": "stream",
     "text": [
      "This skirt is red and this T-shirt is green.\n",
      "This skirt is red and this T-shirt is green.\n",
      "This skirt is red and this T-shirt is green.\n",
      "My favorite number is 7!\n",
      "The sum of 24 and 8 is 32.\n"
     ]
    }
   ],
   "source": [
    "#不带编号\n",
    "print('This skirt is {} and this T-shirt is {}.'.format('red','green'))\n",
    "#带数字编号\n",
    "print('This skirt is {1} and this T-shirt is {0}.'.format('green','red'))\n",
    "#带关键字\n",
    "print('This skirt is {first} and this T-shirt is {second}.'.format(second='green',first='red'))\n",
    "\n",
    "#{}内直接填入替换内容\n",
    "num = 7\n",
    "print(f'My favorite number is {num}!')\n",
    "#{}内填入表达式\n",
    "print(f'The sum of 24 and 8 is {24+8}.')"
   ]
  },
  {
   "cell_type": "markdown",
   "metadata": {},
   "source": [
    "## 程序清单2-5 f-string实现格式"
   ]
  },
  {
   "cell_type": "code",
   "execution_count": 5,
   "metadata": {},
   "outputs": [
    {
     "name": "stdout",
     "output_type": "stream",
     "text": [
      "My favorite number is 7!\n",
      "The sum of 24 and 8 is 32.\n"
     ]
    }
   ],
   "source": [
    "num = 7  \n",
    "print(f'My favorite number is {num}!')  \n",
    "#{}内填入表达式  \n",
    "print(f'The sum of 24 and 8 is {24+8}.') "
   ]
  },
  {
   "cell_type": "markdown",
   "metadata": {},
   "source": [
    "## 程序清单2-6 缩进规则演示"
   ]
  },
  {
   "cell_type": "code",
   "execution_count": 6,
   "metadata": {},
   "outputs": [
    {
     "name": "stdout",
     "output_type": "stream",
     "text": [
      "The number you guessed is positive!\n"
     ]
    }
   ],
   "source": [
    "number = 15\n",
    "if number == 0:\n",
    "    print('The number you entered is zero!')\n",
    "elif number > 0:\n",
    "    print('The number you guessed is positive!')\n",
    "else:\n",
    "    print('The number you guessed is nagative!')"
   ]
  },
  {
   "cell_type": "markdown",
   "metadata": {},
   "source": [
    "## 程序清单2-7 查询关键字"
   ]
  },
  {
   "cell_type": "code",
   "execution_count": 7,
   "metadata": {},
   "outputs": [
    {
     "name": "stdout",
     "output_type": "stream",
     "text": [
      "['False', 'None', 'True', 'and', 'as', 'assert', 'async', 'await', 'break', 'class', 'continue', 'def', 'del', 'elif', 'else', 'except', 'finally', 'for', 'from', 'global', 'if', 'import', 'in', 'is', 'lambda', 'nonlocal', 'not', 'or', 'pass', 'raise', 'return', 'try', 'while', 'with', 'yield']\n"
     ]
    }
   ],
   "source": [
    "import keyword\n",
    "print(keyword.kwlist)"
   ]
  },
  {
   "cell_type": "markdown",
   "metadata": {},
   "source": [
    "## 程序清单2-8 常用算术运算符演示"
   ]
  },
  {
   "cell_type": "code",
   "execution_count": 8,
   "metadata": {},
   "outputs": [
    {
     "name": "stdout",
     "output_type": "stream",
     "text": [
      "3+2=5\n",
      "3-2=1\n",
      "3*2=6\n",
      "3/2=1.5\n",
      "3%2=1\n",
      "3**2=9\n",
      "3//2=1\n"
     ]
    }
   ],
   "source": [
    "a = 3\n",
    "b = 2\n",
    "#+\n",
    "c = a + b\n",
    "print('{}+{}={}'.format(a,b,c))\n",
    "#-\n",
    "c = a - b\n",
    "print('{}-{}={}'.format(a,b,c))\n",
    "#*\n",
    "c = a * b\n",
    "print('{}*{}={}'.format(a,b,c))\n",
    "#/\n",
    "c = a / b\n",
    "print('{}/{}={}'.format(a,b,c))\n",
    "#%\n",
    "c = a % b\n",
    "print('{}%{}={}'.format(a,b,c))\n",
    "#**\n",
    "c = a ** b\n",
    "print('{}**{}={}'.format(a,b,c))\n",
    "#//\n",
    "c = a // b\n",
    "print('{}//{}={}'.format(a,b,c))"
   ]
  },
  {
   "cell_type": "markdown",
   "metadata": {},
   "source": [
    "## 程序清单2-9 常用比较运算符演示"
   ]
  },
  {
   "cell_type": "code",
   "execution_count": 9,
   "metadata": {},
   "outputs": [
    {
     "name": "stdout",
     "output_type": "stream",
     "text": [
      "a==b:False\n",
      "a!=b:True\n",
      "a>b:False\n",
      "a<b:True\n",
      "a>=b:False\n",
      "a<=b:True\n"
     ]
    }
   ],
   "source": [
    "a = 5\n",
    "b = 9\n",
    "#==\n",
    "if a == b:\n",
    "    flag = True;\n",
    "else:\n",
    "    flag = False;\n",
    "print(\"a==b:\"+str(flag))\n",
    "#!=\n",
    "if a != b:\n",
    "    flag2 = True;\n",
    "else:\n",
    "    flag2 = False;\n",
    "print(\"a!=b:\"+str(flag2))\n",
    "#>\n",
    "if a > b:\n",
    "    flag3 = True;\n",
    "else:\n",
    "    flag3 = False;\n",
    "print(\"a>b:\"+str(flag3))\n",
    "#<\n",
    "if a < b:\n",
    "    flag4 = True;\n",
    "else:\n",
    "    flag4 = False;\n",
    "print(\"a<b:\"+str(flag4))\n",
    "#>=\n",
    "if a >= b:\n",
    "    flag5 = True;\n",
    "else:\n",
    "    flag5 = False;\n",
    "print(\"a>=b:\"+str(flag5))\n",
    "#<=\n",
    "if a <= b:\n",
    "    flag6 = True;\n",
    "else:\n",
    "    flag6 = False;\n",
    "print(\"a<=b:\"+str(flag6))"
   ]
  },
  {
   "cell_type": "markdown",
   "metadata": {},
   "source": [
    "## 程序清单2-10 字符串截取功能"
   ]
  },
  {
   "cell_type": "code",
   "execution_count": 10,
   "metadata": {},
   "outputs": [
    {
     "name": "stdout",
     "output_type": "stream",
     "text": [
      "ell\n",
      "hello world  \n"
     ]
    }
   ],
   "source": [
    "strs = 'hello world  '\n",
    "#截取字符串部分内容\n",
    "print(strs[1:4])\n",
    "#截取全部字符\n",
    "print(strs[:])"
   ]
  },
  {
   "cell_type": "markdown",
   "metadata": {},
   "source": [
    "## 程序清单2-11 消除字符串空格功能"
   ]
  },
  {
   "cell_type": "code",
   "execution_count": 11,
   "metadata": {},
   "outputs": [
    {
     "name": "stdout",
     "output_type": "stream",
     "text": [
      "hello world\n",
      "hello world\n"
     ]
    }
   ],
   "source": [
    "strs = 'hello world  '\n",
    "str1 = 'lhello worldl'\n",
    "#消除字符串左右两边的空格\n",
    "print(strs.strip())\n",
    "#消除字符串两边的字符l\n",
    "print(str1.strip('l'))"
   ]
  },
  {
   "cell_type": "markdown",
   "metadata": {},
   "source": [
    "## 程序清单2-12 字符串find()函数"
   ]
  },
  {
   "cell_type": "code",
   "execution_count": 12,
   "metadata": {},
   "outputs": [
    {
     "name": "stdout",
     "output_type": "stream",
     "text": [
      "1\n",
      "13\n"
     ]
    }
   ],
   "source": [
    "strs = 'hello world hello world'  \n",
    "#未指定索引范围的情况  \n",
    "print(strs.find('el'))  \n",
    "#指定索引范围的情况  \n",
    "print(strs.find('el',12,len(strs)))  "
   ]
  },
  {
   "cell_type": "markdown",
   "metadata": {},
   "source": [
    "## 程序清单2-13 字符串index()函数"
   ]
  },
  {
   "cell_type": "code",
   "execution_count": 13,
   "metadata": {},
   "outputs": [
    {
     "name": "stdout",
     "output_type": "stream",
     "text": [
      "1\n",
      "13\n"
     ]
    }
   ],
   "source": [
    "strs = 'hello world hello world'  \n",
    "#未指定索引范围的情况  \n",
    "print(strs.index('el'))  \n",
    "#指定索引范围的情况  \n",
    "print(strs.index('el',12,len(strs)))"
   ]
  },
  {
   "cell_type": "markdown",
   "metadata": {},
   "source": [
    "## 程序清单2-14 字符串count()函数"
   ]
  },
  {
   "cell_type": "code",
   "execution_count": 1,
   "metadata": {},
   "outputs": [
    {
     "name": "stdout",
     "output_type": "stream",
     "text": [
      "2\n",
      "1\n"
     ]
    }
   ],
   "source": [
    "str = 'hello world hello world'  \n",
    "#未指定索引范围的情况  \n",
    "print(str.count('el'))  \n",
    "#指定索引范围的情况  \n",
    "print(str.count('el',4,len(str)))  "
   ]
  },
  {
   "cell_type": "markdown",
   "metadata": {},
   "source": [
    "## 程序清单2-15 字符串repalce()函数"
   ]
  },
  {
   "cell_type": "code",
   "execution_count": 14,
   "metadata": {},
   "outputs": [
    {
     "name": "stdout",
     "output_type": "stream",
     "text": [
      "hi world hi world\n",
      "hello beijing hello world\n"
     ]
    }
   ],
   "source": [
    "strs = 'hello world hello world'  \n",
    "#未指定max参数  \n",
    "print(strs.replace('hello', 'hi'))  \n",
    "#指定max参数  \n",
    "print(strs.replace('world', 'beijing', 1))\n"
   ]
  },
  {
   "cell_type": "markdown",
   "metadata": {},
   "source": [
    "## 程序清单2-16 字符串split()函数"
   ]
  },
  {
   "cell_type": "code",
   "execution_count": 16,
   "metadata": {},
   "outputs": [
    {
     "name": "stdout",
     "output_type": "stream",
     "text": [
      "['hell', ' w', 'rld hell', ' w', 'rld']\n",
      "['hell', ' w', 'rld hello world']\n"
     ]
    }
   ],
   "source": [
    "strs = 'hello world hello world'  \n",
    "#未指定max参数  \n",
    "print(strs.split('o'))  \n",
    "#指定max参数  \n",
    "print(strs.split('o',2)) "
   ]
  },
  {
   "cell_type": "markdown",
   "metadata": {},
   "source": [
    "## 程序清单2-17 字符串capitalize()函数"
   ]
  },
  {
   "cell_type": "code",
   "execution_count": 17,
   "metadata": {},
   "outputs": [
    {
     "name": "stdout",
     "output_type": "stream",
     "text": [
      "My name is lily\n"
     ]
    }
   ],
   "source": [
    "strs = 'my name is Lily'  \n",
    "print(strs.capitalize()) "
   ]
  },
  {
   "cell_type": "markdown",
   "metadata": {},
   "source": [
    "## 程序清单2-18 字符串lower()函数"
   ]
  },
  {
   "cell_type": "code",
   "execution_count": 18,
   "metadata": {},
   "outputs": [
    {
     "name": "stdout",
     "output_type": "stream",
     "text": [
      "aa bb cc dd\n"
     ]
    }
   ],
   "source": [
    "strs = 'Aa Bb Cc Dd'  \n",
    "print(strs.lower()) "
   ]
  },
  {
   "cell_type": "markdown",
   "metadata": {},
   "source": [
    "## 程序清单2-19 字符串upper()函数"
   ]
  },
  {
   "cell_type": "code",
   "execution_count": 19,
   "metadata": {},
   "outputs": [
    {
     "name": "stdout",
     "output_type": "stream",
     "text": [
      "AA BB CC DD\n"
     ]
    }
   ],
   "source": [
    "strs = 'Aa Bb Cc Dd'  \n",
    "print(strs.upper())"
   ]
  },
  {
   "cell_type": "markdown",
   "metadata": {},
   "source": [
    "## 程序清单2-20 字符串swapcase()函数"
   ]
  },
  {
   "cell_type": "code",
   "execution_count": 2,
   "metadata": {},
   "outputs": [
    {
     "name": "stdout",
     "output_type": "stream",
     "text": [
      "a B c D\n"
     ]
    }
   ],
   "source": [
    "strs = 'A b C d'  \n",
    "print(strs.swapcase())  "
   ]
  },
  {
   "cell_type": "markdown",
   "metadata": {},
   "source": [
    "## 程序清单2-21 字符串isnumeric()函数"
   ]
  },
  {
   "cell_type": "code",
   "execution_count": 20,
   "metadata": {},
   "outputs": [
    {
     "name": "stdout",
     "output_type": "stream",
     "text": [
      "True\n"
     ]
    }
   ],
   "source": [
    "strs = '1234'  \n",
    "print(strs.isnumeric()) "
   ]
  },
  {
   "cell_type": "markdown",
   "metadata": {},
   "source": [
    "## 程序清单2-22 int()函数作用"
   ]
  },
  {
   "cell_type": "code",
   "execution_count": 21,
   "metadata": {},
   "outputs": [
    {
     "name": "stdout",
     "output_type": "stream",
     "text": [
      "1234\n",
      "2\n"
     ]
    }
   ],
   "source": [
    "strs = '1234'  \n",
    "num = 2.6  \n",
    "print(int(strs))  \n",
    "print(int(num))"
   ]
  },
  {
   "cell_type": "markdown",
   "metadata": {},
   "source": [
    "## 程序清单2-23 float()函数作用"
   ]
  },
  {
   "cell_type": "code",
   "execution_count": 22,
   "metadata": {},
   "outputs": [
    {
     "name": "stdout",
     "output_type": "stream",
     "text": [
      "1234.0\n",
      "3.0\n"
     ]
    }
   ],
   "source": [
    "strs = '1234'  \n",
    "num = 3  \n",
    "print(float(strs))  \n",
    "print(float(num)) "
   ]
  },
  {
   "cell_type": "markdown",
   "metadata": {},
   "source": [
    "## 程序清单2-24 str()函数作用"
   ]
  },
  {
   "cell_type": "code",
   "execution_count": 23,
   "metadata": {},
   "outputs": [
    {
     "name": "stdout",
     "output_type": "stream",
     "text": [
      "3\n",
      "4.5\n"
     ]
    }
   ],
   "source": [
    "a = 3 \n",
    "s = str(a)  \n",
    "b = 4.5  \n",
    "print(s)  \n",
    "s = str(b)  \n",
    "print(s) "
   ]
  },
  {
   "cell_type": "markdown",
   "metadata": {},
   "source": [
    "## 程序清单2-25 hex()函数作用"
   ]
  },
  {
   "cell_type": "code",
   "execution_count": 24,
   "metadata": {},
   "outputs": [
    {
     "name": "stdout",
     "output_type": "stream",
     "text": [
      "0xf\n"
     ]
    }
   ],
   "source": [
    "a = 15  \n",
    "print(hex(a))"
   ]
  },
  {
   "cell_type": "markdown",
   "metadata": {},
   "source": [
    "## 程序清单2-26 oct()函数"
   ]
  },
  {
   "cell_type": "code",
   "execution_count": 25,
   "metadata": {},
   "outputs": [
    {
     "name": "stdout",
     "output_type": "stream",
     "text": [
      "0o17\n"
     ]
    }
   ],
   "source": [
    "a = 15  \n",
    "print(oct(a))  "
   ]
  },
  {
   "cell_type": "markdown",
   "metadata": {},
   "source": [
    "## 程序清单2-27 条件分支语句嵌套功能"
   ]
  },
  {
   "cell_type": "code",
   "execution_count": 26,
   "metadata": {},
   "outputs": [
    {
     "name": "stdout",
     "output_type": "stream",
     "text": [
      "请输入成绩：98\n",
      "A\n"
     ]
    }
   ],
   "source": [
    "a = int(input(\"请输入成绩：\"))  \n",
    "if a >= 90:  \n",
    "    print('A')  \n",
    "elif a >= 80:  \n",
    "    print('B')  \n",
    "elif a>= 60:  \n",
    "    print('C')  \n",
    "else:  \n",
    "    print('D')"
   ]
  },
  {
   "cell_type": "markdown",
   "metadata": {},
   "source": [
    "## 程序清单2-28 while语句使用实例"
   ]
  },
  {
   "cell_type": "code",
   "execution_count": 27,
   "metadata": {},
   "outputs": [
    {
     "name": "stdout",
     "output_type": "stream",
     "text": [
      "240\n"
     ]
    }
   ],
   "source": [
    "i = 1;  \n",
    "sum = 0  \n",
    "while i<=30:  \n",
    "    if i%2==0:  \n",
    "        sum+=i  \n",
    "    i=i+1  \n",
    "print(sum)  "
   ]
  },
  {
   "cell_type": "markdown",
   "metadata": {},
   "source": [
    "## 程序清单2-29 for语句实例"
   ]
  },
  {
   "cell_type": "code",
   "execution_count": 28,
   "metadata": {},
   "outputs": [
    {
     "name": "stdout",
     "output_type": "stream",
     "text": [
      "1\n",
      "2\n",
      "3\n",
      "4\n",
      "5\n"
     ]
    }
   ],
   "source": [
    "string = '12345'  \n",
    "for str in string:  \n",
    "    print(str) "
   ]
  },
  {
   "cell_type": "markdown",
   "metadata": {},
   "source": [
    "## 程序清单2-30 range()函数实例"
   ]
  },
  {
   "cell_type": "code",
   "execution_count": 29,
   "metadata": {},
   "outputs": [
    {
     "name": "stdout",
     "output_type": "stream",
     "text": [
      "0\n",
      "1\n",
      "2\n",
      "3\n",
      "4\n",
      "1\n",
      "3\n",
      "5\n",
      "7\n",
      "9\n"
     ]
    }
   ],
   "source": [
    "#未设置参数beg和step的情况  \n",
    "for num in range(5):  \n",
    "    print(num)  \n",
    "#设置参数情况  \n",
    "for num in range(1,10,2):  \n",
    "    print(num)  "
   ]
  },
  {
   "cell_type": "markdown",
   "metadata": {},
   "source": [
    "## 程序清单2-31 break语句实例"
   ]
  },
  {
   "cell_type": "code",
   "execution_count": 30,
   "metadata": {},
   "outputs": [
    {
     "name": "stdout",
     "output_type": "stream",
     "text": [
      "102\n"
     ]
    }
   ],
   "source": [
    "for num in range(100,200):  \n",
    "    if num % 3 == 0:  \n",
    "        print(num)  \n",
    "        break "
   ]
  },
  {
   "cell_type": "markdown",
   "metadata": {},
   "source": [
    "## 程序清单2-32 continue语句实例"
   ]
  },
  {
   "cell_type": "code",
   "execution_count": 31,
   "metadata": {},
   "outputs": [
    {
     "name": "stdout",
     "output_type": "stream",
     "text": [
      "9\n"
     ]
    }
   ],
   "source": [
    "for num in range(1,10):  \n",
    "    if num % 3 == 0:  \n",
    "        continue  \n",
    "print(num)"
   ]
  },
  {
   "cell_type": "markdown",
   "metadata": {},
   "source": [
    "## 程序清单2-33 函数定义实例"
   ]
  },
  {
   "cell_type": "code",
   "execution_count": 32,
   "metadata": {},
   "outputs": [
    {
     "name": "stdout",
     "output_type": "stream",
     "text": [
      "请输入一个数：7\n",
      "该数是奇数！\n"
     ]
    }
   ],
   "source": [
    "def even():  \n",
    "    print('该数是偶数！')  \n",
    "def odd():  \n",
    "    print('该数是奇数！')  \n",
    "num = int(input(\"请输入一个数：\"))  \n",
    "if num % 2 == 0:  \n",
    "    even()  \n",
    "else:  \n",
    "    odd()  "
   ]
  },
  {
   "cell_type": "markdown",
   "metadata": {},
   "source": [
    "## 程序清单2-34 函数使用实例"
   ]
  },
  {
   "cell_type": "code",
   "execution_count": 33,
   "metadata": {},
   "outputs": [
    {
     "name": "stdout",
     "output_type": "stream",
     "text": [
      "请输入一个数字：4\n",
      "64\n"
     ]
    }
   ],
   "source": [
    "def thirdPow(num):  \n",
    "    print(num*num*num)  \n",
    " \n",
    "a = int(input(\"请输入一个数字：\"))  \n",
    "thirdPow(a)  "
   ]
  },
  {
   "cell_type": "markdown",
   "metadata": {},
   "source": [
    "## 程序清单2-35 带返回结果函数实例"
   ]
  },
  {
   "cell_type": "code",
   "execution_count": 34,
   "metadata": {},
   "outputs": [
    {
     "name": "stdout",
     "output_type": "stream",
     "text": [
      "请输入一个数字：4\n",
      "64\n"
     ]
    }
   ],
   "source": [
    "def thirdPow(num):  \n",
    "    return (num*num*num)  \n",
    "  \n",
    "a = int(input(\"请输入一个数字：\"))  \n",
    "print(thirdPow(a))  "
   ]
  },
  {
   "cell_type": "markdown",
   "metadata": {},
   "source": [
    "## 程序清单2-36 带参数函数实例"
   ]
  },
  {
   "cell_type": "code",
   "execution_count": 35,
   "metadata": {},
   "outputs": [
    {
     "name": "stdout",
     "output_type": "stream",
     "text": [
      "16\n"
     ]
    }
   ],
   "source": [
    "def pow(num,x):  \n",
    "    fre = 1  \n",
    "    result = 1  \n",
    "    while fre <= x:  \n",
    "        result *= num  \n",
    "        fre+=1  \n",
    "    return result  \n",
    "  \n",
    "print(pow(2,4))"
   ]
  },
  {
   "cell_type": "markdown",
   "metadata": {},
   "source": [
    "## 程序清单2-37 带可变参数函数实例"
   ]
  },
  {
   "cell_type": "code",
   "execution_count": 36,
   "metadata": {},
   "outputs": [
    {
     "name": "stdout",
     "output_type": "stream",
     "text": [
      "30\n"
     ]
    }
   ],
   "source": [
    "def sum(*nums):  \n",
    "    sum = 0;  \n",
    "    for num in nums:  \n",
    "        sum += num*num  \n",
    "    return sum  \n",
    "  \n",
    "print(sum(1,2,3,4)) "
   ]
  },
  {
   "cell_type": "markdown",
   "metadata": {},
   "source": [
    "## 程序清单2-38 带关键字参数函数实例"
   ]
  },
  {
   "cell_type": "code",
   "execution_count": 37,
   "metadata": {},
   "outputs": [
    {
     "name": "stdout",
     "output_type": "stream",
     "text": [
      "species: dog name: coco other: {'age': 30, 'color': 'black'}\n"
     ]
    }
   ],
   "source": [
    "def animal(species,name,**kw):  \n",
    "    print('species:',species,'name:',name,'other:',kw)  \n",
    "      \n",
    "animal('dog','coco',age=30,color='black') "
   ]
  },
  {
   "cell_type": "markdown",
   "metadata": {},
   "source": [
    "## 程序清单2-39 形参实参理解实例"
   ]
  },
  {
   "cell_type": "code",
   "execution_count": 38,
   "metadata": {},
   "outputs": [
    {
     "name": "stdout",
     "output_type": "stream",
     "text": [
      "2 3\n"
     ]
    }
   ],
   "source": [
    "def swap(a,b):  \n",
    "    c = a  \n",
    "    a = b  \n",
    "    b = c  \n",
    "      \n",
    "num1 = 2  \n",
    "num2 = 3  \n",
    "swap(num1,num2)  \n",
    "print(num1,num2)  "
   ]
  },
  {
   "cell_type": "markdown",
   "metadata": {},
   "source": [
    "## 程序清单2-40 全局变量局部变量理解实例"
   ]
  },
  {
   "cell_type": "code",
   "execution_count": 39,
   "metadata": {},
   "outputs": [
    {
     "name": "stdout",
     "output_type": "stream",
     "text": [
      "在函数中修改high后的值是： 1.8\n",
      "12年后的年龄是： 20\n",
      "全局变量现在的值： 1.5\n"
     ]
    }
   ],
   "source": [
    "def ageAdd(oldAge):  \n",
    "    newAge = oldAge + 12  \n",
    "    #试图修改全局变量  \n",
    "    high = 1.8  \n",
    "    print('在函数中修改high后的值是：',high)  \n",
    "    return newAge  \n",
    "      \n",
    "age = 8  \n",
    "high = 1.5  \n",
    "print('12年后的年龄是：',ageAdd(age))  \n",
    "print('全局变量现在的值：',high)"
   ]
  },
  {
   "cell_type": "markdown",
   "metadata": {},
   "source": [
    "## 程序清单2-41 递归函数实例"
   ]
  },
  {
   "cell_type": "code",
   "execution_count": 3,
   "metadata": {},
   "outputs": [
    {
     "name": "stdout",
     "output_type": "stream",
     "text": [
      "5\n"
     ]
    }
   ],
   "source": [
    "def fib(num):  \n",
    "    if(num <= 1): return num  \n",
    "    return fib(num-1)+fib(num-2)  \n",
    "print(fib(5))"
   ]
  },
  {
   "cell_type": "markdown",
   "metadata": {},
   "source": [
    "## 程序清单2-42 跳出多层循环实例"
   ]
  },
  {
   "cell_type": "code",
   "execution_count": 41,
   "metadata": {},
   "outputs": [
    {
     "name": "stdout",
     "output_type": "stream",
     "text": [
      "在二维数组中找到了所需的数字！\n"
     ]
    }
   ],
   "source": [
    "arr = [[1,2,3],[4,5,6],[7,8,9]]  \n",
    "flag = False  \n",
    "for i in range(len(arr)):  \n",
    "    if flag:  \n",
    "        break  \n",
    "    for j in range(len(arr[0])):  \n",
    "        if arr[i][j] == 5:  \n",
    "            print('在二维数组中找到了所需的数字！')  \n",
    "            flag = True  \n",
    "            break  "
   ]
  },
  {
   "cell_type": "markdown",
   "metadata": {},
   "source": [
    "## 程序清单2-43 求立方和实例"
   ]
  },
  {
   "cell_type": "code",
   "execution_count": 42,
   "metadata": {},
   "outputs": [
    {
     "name": "stdout",
     "output_type": "stream",
     "text": [
      "是否是水仙花数? True\n"
     ]
    }
   ],
   "source": [
    "def nar(num):  \n",
    "    ge = num % 10  \n",
    "    shi = num // 10 % 10  \n",
    "    bai = num //100  \n",
    "    result = int(pow(ge,3))+ int(pow(shi,3))+ int(pow(bai,3))  \n",
    "    if result == num:  \n",
    "        return True  \n",
    "    else:  \n",
    "        return False  \n",
    "  \n",
    "num = 153  \n",
    "print('是否是水仙花数?',nar(num))  "
   ]
  }
 ],
 "metadata": {
  "kernelspec": {
   "display_name": "Python 3",
   "language": "python",
   "name": "python3"
  },
  "language_info": {
   "codemirror_mode": {
    "name": "ipython",
    "version": 3
   },
   "file_extension": ".py",
   "mimetype": "text/x-python",
   "name": "python",
   "nbconvert_exporter": "python",
   "pygments_lexer": "ipython3",
   "version": "3.7.1"
  }
 },
 "nbformat": 4,
 "nbformat_minor": 2
}
